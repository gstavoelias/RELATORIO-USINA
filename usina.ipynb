{
 "cells": [
  {
   "cell_type": "code",
   "execution_count": null,
   "metadata": {},
   "outputs": [],
   "source": [
    "%pip install sqlalchemy"
   ]
  },
  {
   "cell_type": "code",
   "execution_count": null,
   "metadata": {},
   "outputs": [],
   "source": [
    "\"\"\"\n",
    "Objetos do sqlalchemy core para a realização da conexão e operação do Banco de Dados\n",
    "\"\"\"\n",
    "from sqlalchemy import create_engine\n",
    "from sqlalchemy.engine import URL\n",
    "from sqlalchemy.ext.declarative import declarative_base\n",
    "from sqlalchemy.orm import sessionmaker\n",
    "\n",
    "DB_CONNECTION = URL.create(\n",
    "    drivername=\"postgresql\",\n",
    "    username=\"postgres\",\n",
    "    password=\"1234\",\n",
    "    host=\"10.8.0.13\",\n",
    "    port=5432,\n",
    "    database=\"stemis\"\n",
    ")\n",
    "engine = create_engine(DB_CONNECTION, echo=False)\n",
    "Base = declarative_base()\n",
    "Session = sessionmaker(bind=engine)"
   ]
  },
  {
   "cell_type": "code",
   "execution_count": null,
   "metadata": {},
   "outputs": [],
   "source": [
    "from sqlalchemy import Column, Integer, String, Boolean, Float, DateTime\n",
    "\n",
    "class Tcu(Base):\n",
    "    __tablename__ = \"tcu\"\n",
    "    id = Column(Integer, primary_key=True)\n",
    "    name = Column(String)\n",
    "    active = Column(Boolean)\n",
    "    latitude = Column(Float)\n",
    "    longitude = Column(Float) \n",
    "\n",
    "    def get_attr_dict(self):\n",
    "        return {\n",
    "            \"id\": self.id,\n",
    "            \"name\": self.name,\n",
    "            \"active\": self.active,\n",
    "            \"latitude\": self.latitude,\n",
    "            \"longitude\": self.longitude\n",
    "        }\n",
    "\n",
    "\n",
    "class TcuData(Base):\n",
    "    __tablename__ = \"tcu_data\"\n",
    "    id = Column(Integer, primary_key=True)  \n",
    "    tcu_id = Column(String) \n",
    "    datetime = Column(DateTime)\n",
    "    tcu_datetime = Column(DateTime)\n",
    "    angular_position = Column(Float)\n",
    "    target_angle = Column(Float)\n",
    "\n",
    "    def get_attr_dict(self):\n",
    "        return {\n",
    "            \"id\": self.id,\n",
    "            \"tcu_id\": self.tcu_id,\n",
    "            \"datetime\": self.datetime.strftime(\"%Y-%m-%d %H:%M:%S.%f\"),\n",
    "            \"tcu_datetime\": self.tcu_datetime.strftime(\"%Y-%m-%d %H:%M:%S.%f\"),\n",
    "            \"angular_position\": self.angular_position,\n",
    "            \"target_angle\": self.target_angle\n",
    "        }\n"
   ]
  },
  {
   "cell_type": "code",
   "execution_count": null,
   "metadata": {},
   "outputs": [],
   "source": [
    "class Usina(object):\n",
    "    def __init__(self):\n",
    "        self._session = Session()\n",
    "\n",
    "    def get_tcus(self):\n",
    "        tcus = self._session.query(Tcu).all()\n",
    "        data = [tcu.get_attr_dict() for tcu in tcus]\n",
    "        return data\n",
    "    \n",
    "\n",
    "    def get_tcu_uplinks(self, dev_eui, n):\n",
    "        uplinks = self._session.query(TcuData).filter(TcuData.tcu_id == dev_eui).order_by(TcuData.datetime.desc()).limit(n).all()\n",
    "        data = [uplink.get_attr_dict() for uplink in uplinks]\n",
    "        return data\n"
   ]
  },
  {
   "cell_type": "code",
   "execution_count": null,
   "metadata": {},
   "outputs": [],
   "source": [
    "usina = Usina()\n",
    "tcus = usina.get_tcus()\n",
    "tcus"
   ]
  },
  {
   "cell_type": "code",
   "execution_count": 1,
   "metadata": {},
   "outputs": [
    {
     "name": "stdout",
     "output_type": "stream",
     "text": [
      "Timestamp: 1741785487.0\n",
      "Hex: 0x4ecfa313\n"
     ]
    }
   ],
   "source": [
    "import time\n",
    "import struct\n",
    "\n",
    "timestamp = float(int(time.time())) \n",
    "hex_representation = struct.unpack(\">I\", struct.pack(\">f\", timestamp))[0]  # Converte para IEEE 754 e extrai como inteiro\n",
    "print(f\"Timestamp: {timestamp}\")\n",
    "print(f\"Hex: 0x{hex_representation:08x}\")\n"
   ]
  },
  {
   "cell_type": "code",
   "execution_count": null,
   "metadata": {},
   "outputs": [
    {
     "name": "stdout",
     "output_type": "stream",
     "text": [
      "COMANDO RTC:\n",
      "Hex: e14ecfa0bb\n"
     ]
    }
   ],
   "source": [
    "import time\n",
    "import struct\n",
    "\n",
    "timestamp = float(int(time.time()))                 \n",
    "hex_representation = struct.unpack(\">I\", struct.pack(\">f\", timestamp))[0]\n",
    "print(f\"COMANDO RTC:\")\n",
    "print(f\"e1{hex_representation:08x}\")"
   ]
  },
  {
   "cell_type": "code",
   "execution_count": null,
   "metadata": {},
   "outputs": [],
   "source": [
    "import struct\n",
    "import binascii\n",
    "\n",
    "def unpack_float(payload, start_idx, length=32):\n",
    "    return struct.unpack(\"f\", struct.pack(\"I\", int(payload[start_idx:start_idx + length], 2)))[0]\n",
    "\n",
    "def unpack_int(payload, start_idx, length=16):\n",
    "    return struct.unpack(\"<I\", struct.pack(\"I\", int(payload[start_idx:start_idx + length], 2)))[0]\n",
    "\n",
    "def decode_fport2_payload(payload_hex):\n",
    "    binary_payload = bin(int(payload_hex, 16))[2:].zfill(len(payload_hex) * 4)\n",
    "    \n",
    "    decoded_data = {\n",
    "        \"spa.latitude\": unpack_float(binary_payload, 0),\n",
    "        \"spa.longitude\": unpack_float(binary_payload, 32),\n",
    "        \"spa.elevation\": unpack_float(binary_payload, 64),\n",
    "        \"spa.site_pressure\": unpack_float(binary_payload, 96),\n",
    "        \"spa.site_temp\": unpack_float(binary_payload, 128),\n",
    "        \"spa.surface_azimuth\": unpack_float(binary_payload, 160),\n",
    "        \"spa.tracking_max_angle\": unpack_float(binary_payload, 192),\n",
    "        \"spa.tracking_min_angle\": unpack_float(binary_payload, 224),\n",
    "        \"spa.homePosition\": unpack_float(binary_payload, 256),\n",
    "        \"safePositions[0]\": unpack_float(binary_payload, 288),\n",
    "        \"spa.table_width\": unpack_float(binary_payload, 320),\n",
    "        \"spa.ptp_spacing\": unpack_float(binary_payload, 352),\n",
    "        \"inclinometer_offset\": unpack_float(binary_payload, 384),\n",
    "        \"spa.slope\": unpack_float(binary_payload, 416),\n",
    "        \"spa.tracker_yaw_angle\": unpack_float(binary_payload, 448),\n",
    "        \"commPeriod\": unpack_int(binary_payload, 480, 16),\n",
    "        \"debugPeriod\": unpack_int(binary_payload, 496, 16),\n",
    "        \"lastcommPeriod\": unpack_int(binary_payload, 512, 16),\n",
    "        \"movePeriod\": unpack_int(binary_payload, 528, 16),\n",
    "    }\n",
    "    return decoded_data\n",
    "\n",
    "\n"
   ]
  },
  {
   "cell_type": "code",
   "execution_count": null,
   "metadata": {},
   "outputs": [
    {
     "name": "stdout",
     "output_type": "stream",
     "text": [
      "spa.latitude: -20.913087844848633\n",
      "spa.longitude: -48.46515655517578\n",
      "spa.elevation: 556.0\n",
      "spa.site_pressure: 1013.0\n",
      "spa.site_temp: 25.0\n",
      "spa.surface_azimuth: 0.0\n",
      "spa.tracking_max_angle: 55.0\n",
      "spa.tracking_min_angle: -55.0\n",
      "spa.homePosition: -25.0\n",
      "safePositions[0]: -25.0\n",
      "spa.table_width: 2.384999990463257\n",
      "spa.ptp_spacing: 5.5\n",
      "inclinometer_offset: -1.9760215282440186\n",
      "spa.slope: 0.0\n",
      "spa.tracker_yaw_angle: 0.0\n",
      "commPeriod: 300\n",
      "debugPeriod: 65535\n",
      "lastcommPeriod: 65535\n",
      "movePeriod: 65535\n"
     ]
    }
   ],
   "source": [
    "# Payload de exemplo\n",
    "payload_hex = \"c1a625dac246357f443b8000447cc00041c8000000000000425c0000c25c0000c1c80000c1c800004018a3d740d00000be59eae50000000000000000012c0e100708003c\"\n",
    "\n",
    "decoded_payload = decode_fport2_payload(payload_hex)\n",
    "\n",
    "for key, value in decoded_payload.items():\n",
    "    print(f\"{key}: {value}\")"
   ]
  }
 ],
 "metadata": {
  "kernelspec": {
   "display_name": "Python 3",
   "language": "python",
   "name": "python3"
  },
  "language_info": {
   "codemirror_mode": {
    "name": "ipython",
    "version": 3
   },
   "file_extension": ".py",
   "mimetype": "text/x-python",
   "name": "python",
   "nbconvert_exporter": "python",
   "pygments_lexer": "ipython3",
   "version": "3.12.1"
  }
 },
 "nbformat": 4,
 "nbformat_minor": 2
}
